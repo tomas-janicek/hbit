{
 "cells": [
  {
   "cell_type": "markdown",
   "id": "a25c7f60",
   "metadata": {},
   "source": [
    "# Vector DB Playground"
   ]
  },
  {
   "cell_type": "code",
   "execution_count": 1,
   "id": "25dc3b97",
   "metadata": {},
   "outputs": [
    {
     "name": "stdout",
     "output_type": "stream",
     "text": [
      "env: LOGGING_LEVEL=INFO\n"
     ]
    }
   ],
   "source": [
    "%load_ext autoreload\n",
    "%autoreload 2\n",
    "%env LOGGING_LEVEL=INFO"
   ]
  },
  {
   "cell_type": "code",
   "execution_count": null,
   "id": "19c766b9",
   "metadata": {},
   "outputs": [],
   "source": [
    "import json\n",
    "\n",
    "from langchain.text_splitter import CharacterTextSplitter\n",
    "from pydantic import TypeAdapter\n",
    "\n",
    "from hbit import bootstrap, core, dto, enums, settings, types\n",
    "from hbit.corpus import datasets, loader"
   ]
  },
  {
   "cell_type": "code",
   "execution_count": 3,
   "id": "f8b6f02c",
   "metadata": {},
   "outputs": [
    {
     "data": {
      "text/html": [
       "<pre style=\"white-space:pre;overflow-x:auto;line-height:normal;font-family:Menlo,'DejaVu Sans Mono',consolas,'Courier New',monospace\"><span style=\"color: #7fbfbf; text-decoration-color: #7fbfbf\">[04/05/25 16:10:16] </span><span style=\"color: #000080; text-decoration-color: #000080\">INFO    </span> HTTP Request: <span style=\"color: #808000; text-decoration-color: #808000; font-weight: bold\">POST</span> <span style=\"color: #0000ff; text-decoration-color: #0000ff; text-decoration: underline\">http://localhost:8000/api/v1/login/access-token</span>     <a href=\"file:///Users/macbook/Projects/hbit/.venv/lib/python3.12/site-packages/httpx/_client.py\" target=\"_blank\"><span style=\"color: #7f7f7f; text-decoration-color: #7f7f7f\">_client.py</span></a><span style=\"color: #7f7f7f; text-decoration-color: #7f7f7f\">:</span><a href=\"file:///Users/macbook/Projects/hbit/.venv/lib/python3.12/site-packages/httpx/_client.py#1025\" target=\"_blank\"><span style=\"color: #7f7f7f; text-decoration-color: #7f7f7f\">1025</span></a>\n",
       "<span style=\"color: #7fbfbf; text-decoration-color: #7fbfbf\">                    </span>         <span style=\"color: #008000; text-decoration-color: #008000\">\"HTTP/1.1 200 OK\"</span>                                                      <span style=\"color: #7f7f7f; text-decoration-color: #7f7f7f\">               </span>\n",
       "</pre>\n"
      ],
      "text/plain": [
       "\u001b[2;36m[04/05/25 16:10:16]\u001b[0m\u001b[2;36m \u001b[0m\u001b[34mINFO    \u001b[0m HTTP Request: \u001b[1;33mPOST\u001b[0m \u001b[4;94mhttp://localhost:8000/api/v1/login/access-token\u001b[0m     \u001b]8;id=337202;file:///Users/macbook/Projects/hbit/.venv/lib/python3.12/site-packages/httpx/_client.py\u001b\\\u001b[2m_client.py\u001b[0m\u001b]8;;\u001b\\\u001b[2m:\u001b[0m\u001b]8;id=786597;file:///Users/macbook/Projects/hbit/.venv/lib/python3.12/site-packages/httpx/_client.py#1025\u001b\\\u001b[2m1025\u001b[0m\u001b]8;;\u001b\\\n",
       "\u001b[2;36m                    \u001b[0m         \u001b[32m\"HTTP/1.1 200 OK\"\u001b[0m                                                      \u001b[2m               \u001b[0m\n"
      ]
     },
     "metadata": {},
     "output_type": "display_data"
    },
    {
     "data": {
      "text/html": [
       "<pre style=\"white-space:pre;overflow-x:auto;line-height:normal;font-family:Menlo,'DejaVu Sans Mono',consolas,'Courier New',monospace\"><span style=\"color: #7fbfbf; text-decoration-color: #7fbfbf\">[04/05/25 16:10:17] </span><span style=\"color: #000080; text-decoration-color: #000080\">INFO    </span> Dataset loaded from                                                     <a href=\"file:///Users/macbook/Projects/hbit/hbit/corpus/datasets.py\" target=\"_blank\"><span style=\"color: #7f7f7f; text-decoration-color: #7f7f7f\">datasets.py</span></a><span style=\"color: #7f7f7f; text-decoration-color: #7f7f7f\">:</span><a href=\"file:///Users/macbook/Projects/hbit/hbit/corpus/datasets.py#16\" target=\"_blank\"><span style=\"color: #7f7f7f; text-decoration-color: #7f7f7f\">16</span></a>\n",
       "<span style=\"color: #7fbfbf; text-decoration-color: #7fbfbf\">                    </span>         <span style=\"color: #800080; text-decoration-color: #800080\">/Users/macbook/Projects/hbit/hbit/data/</span><span style=\"color: #ff00ff; text-decoration-color: #ff00ff\">security_papers.parquet</span> with     <span style=\"color: #7f7f7f; text-decoration-color: #7f7f7f\">              </span>\n",
       "<span style=\"color: #7fbfbf; text-decoration-color: #7fbfbf\">                    </span>         length <span style=\"color: #008080; text-decoration-color: #008080; font-weight: bold\">428155</span>.                                                          <span style=\"color: #7f7f7f; text-decoration-color: #7f7f7f\">              </span>\n",
       "</pre>\n"
      ],
      "text/plain": [
       "\u001b[2;36m[04/05/25 16:10:17]\u001b[0m\u001b[2;36m \u001b[0m\u001b[34mINFO    \u001b[0m Dataset loaded from                                                     \u001b]8;id=211977;file:///Users/macbook/Projects/hbit/hbit/corpus/datasets.py\u001b\\\u001b[2mdatasets.py\u001b[0m\u001b]8;;\u001b\\\u001b[2m:\u001b[0m\u001b]8;id=338173;file:///Users/macbook/Projects/hbit/hbit/corpus/datasets.py#16\u001b\\\u001b[2m16\u001b[0m\u001b]8;;\u001b\\\n",
       "\u001b[2;36m                    \u001b[0m         \u001b[35m/Users/macbook/Projects/hbit/hbit/data/\u001b[0m\u001b[95msecurity_papers.parquet\u001b[0m with     \u001b[2m              \u001b[0m\n",
       "\u001b[2;36m                    \u001b[0m         length \u001b[1;36m428155\u001b[0m.                                                          \u001b[2m              \u001b[0m\n"
      ]
     },
     "metadata": {},
     "output_type": "display_data"
    }
   ],
   "source": [
    "registry = bootstrap.create_services(\n",
    "    device_extractor_type=enums.DeviceExtractorType.SQL,\n",
    "    patch_extractor_type=enums.PatchExtractorType.SQL,\n",
    "    summary_service_type=enums.SummaryServiceType.AI,\n",
    "    model_provider=enums.ModelProvider.OPEN_AI,\n",
    ")\n",
    "embedding_model = registry.get_service(types.EmbeddingModel)\n",
    "dataset = datasets.SecurityDataset(settings.SECURITY_PAPERS_PATH)\n",
    "db = core.VectorService()\n",
    "splitter = CharacterTextSplitter(\n",
    "    chunk_size=settings.CHUNK_SIZE,\n",
    "    chunk_overlap=settings.CHUNK_OVERLAP,\n",
    ")\n",
    "security_papers = loader.SecurityPapersService(\n",
    "    db=db.client, embeddings_model=embedding_model, splitter=splitter\n",
    ")"
   ]
  },
  {
   "cell_type": "code",
   "execution_count": 4,
   "id": "fd04d7c2",
   "metadata": {},
   "outputs": [],
   "source": [
    "sps = [\n",
    "    dto.SecurityPaper(\n",
    "        text=\"In contemporary enterprise environments, the process of threat modeling plays a pivotal role in identifying potential vulnerabilities prior to system deployment. By leveraging methodologies such as STRIDE and DREAD, security analysts can methodically assess attack surfaces and prioritize mitigation strategies. This proactive approach reduces the likelihood of zero-day exploits by encouraging secure design principles early in the software development lifecycle. Additionally, integration with DevSecOps pipelines ensures that threat modeling is not a one-time event, but an iterative process that evolves alongside system updates and feature expansions.\",\n",
    "        category=enums.SecurityPaperCategory.PDF,\n",
    "    ),\n",
    "    dto.SecurityPaper(\n",
    "        text=\"Recent studies have highlighted the susceptibility of machine learning-based intrusion detection systems to adversarial examples. Attackers can subtly perturb benign inputs to evade detection or manipulate feature vectors to mimic normal behavior. These evasion techniques challenge the reliability of IDS models trained on static datasets. To counteract this, researchers are exploring adversarial training, ensemble models, and online learning methods that adapt to evolving attack vectors. Ensuring robustness in these models remains a significant challenge, particularly in high-throughput, low-latency environments such as industrial control systems.\",\n",
    "        category=enums.SecurityPaperCategory.PDF,\n",
    "    ),\n",
    "    dto.SecurityPaper(\n",
    "        text=\"Federated learning has emerged as a promising paradigm for decentralized model training without compromising data privacy. In cybersecurity contexts, this allows institutions to collaboratively improve threat detection models without sharing raw data, which is often sensitive or regulated. However, federated approaches introduce new attack vectors such as model poisoning and gradient inversion. Countermeasures including differential privacy, secure aggregation protocols, and anomaly detection mechanisms are being actively developed to preserve both privacy and model integrity. The balance between accuracy, efficiency, and privacy continues to drive ongoing research in this domain.\",\n",
    "        category=enums.SecurityPaperCategory.PDF,\n",
    "    ),\n",
    "    dto.SecurityPaper(\n",
    "        text=\"Ransomware threats have evolved beyond opportunistic attacks to incorporate sophisticated lateral movement tactics within hybrid on-premise/cloud environments. Attackers often exploit misconfigured identity federation protocols, credential reuse, and insecure API endpoints to propagate across organizational units. Simulation of such attack chains using frameworks like MITRE ATT&CK and CALDERA provides defenders with actionable insights into potential blind spots. Effective containment strategies now rely on micro-segmentation, identity-based access controls, and automated response mechanisms that isolate compromised assets in real-time.\",\n",
    "        category=enums.SecurityPaperCategory.PDF,\n",
    "    ),\n",
    "    dto.SecurityPaper(\n",
    "        text=\"The advent of quantum computing presents a looming threat to widely used asymmetric cryptographic algorithms such as RSA and ECC. In anticipation, post-quantum cryptography (PQC) schemes are being standardized by bodies such as NIST, focusing on lattice-based, hash-based, and multivariate polynomial-based algorithms. Early adoption of hybrid cryptographic frameworks enables gradual migration while maintaining backward compatibility. However, implementing PQC in constrained environments such as IoT devices poses performance challenges. Careful evaluation of key sizes, computational overhead, and integration complexity is necessary to ensure practical deployment.\",\n",
    "        category=enums.SecurityPaperCategory.PDF,\n",
    "    ),\n",
    "]"
   ]
  },
  {
   "cell_type": "code",
   "execution_count": 4,
   "id": "fb80d0c3",
   "metadata": {},
   "outputs": [
    {
     "data": {
      "text/html": [
       "<pre style=\"white-space:pre;overflow-x:auto;line-height:normal;font-family:Menlo,'DejaVu Sans Mono',consolas,'Courier New',monospace\"><span style=\"color: #7fbfbf; text-decoration-color: #7fbfbf\">[04/05/25 15:57:40] </span><span style=\"color: #000080; text-decoration-color: #000080\">INFO    </span> HTTP Request: <span style=\"color: #808000; text-decoration-color: #808000; font-weight: bold\">POST</span> <span style=\"color: #0000ff; text-decoration-color: #0000ff; text-decoration: underline\">https://api.openai.com/v1/embeddings</span> <span style=\"color: #008000; text-decoration-color: #008000\">\"HTTP/1.1 200 </span> <a href=\"file:///Users/macbook/Projects/hbit/.venv/lib/python3.12/site-packages/httpx/_client.py\" target=\"_blank\"><span style=\"color: #7f7f7f; text-decoration-color: #7f7f7f\">_client.py</span></a><span style=\"color: #7f7f7f; text-decoration-color: #7f7f7f\">:</span><a href=\"file:///Users/macbook/Projects/hbit/.venv/lib/python3.12/site-packages/httpx/_client.py#1025\" target=\"_blank\"><span style=\"color: #7f7f7f; text-decoration-color: #7f7f7f\">1025</span></a>\n",
       "<span style=\"color: #7fbfbf; text-decoration-color: #7fbfbf\">                    </span>         <span style=\"color: #008000; text-decoration-color: #008000\">OK\"</span>                                                                    <span style=\"color: #7f7f7f; text-decoration-color: #7f7f7f\">               </span>\n",
       "</pre>\n"
      ],
      "text/plain": [
       "\u001b[2;36m[04/05/25 15:57:40]\u001b[0m\u001b[2;36m \u001b[0m\u001b[34mINFO    \u001b[0m HTTP Request: \u001b[1;33mPOST\u001b[0m \u001b[4;94mhttps://api.openai.com/v1/embeddings\u001b[0m \u001b[32m\"HTTP/1.1 200 \u001b[0m \u001b]8;id=926321;file:///Users/macbook/Projects/hbit/.venv/lib/python3.12/site-packages/httpx/_client.py\u001b\\\u001b[2m_client.py\u001b[0m\u001b]8;;\u001b\\\u001b[2m:\u001b[0m\u001b]8;id=618718;file:///Users/macbook/Projects/hbit/.venv/lib/python3.12/site-packages/httpx/_client.py#1025\u001b\\\u001b[2m1025\u001b[0m\u001b]8;;\u001b\\\n",
       "\u001b[2;36m                    \u001b[0m         \u001b[32mOK\"\u001b[0m                                                                    \u001b[2m               \u001b[0m\n"
      ]
     },
     "metadata": {},
     "output_type": "display_data"
    },
    {
     "data": {
      "text/html": [
       "<pre style=\"white-space:pre;overflow-x:auto;line-height:normal;font-family:Menlo,'DejaVu Sans Mono',consolas,'Courier New',monospace\"><span style=\"color: #7fbfbf; text-decoration-color: #7fbfbf\">[04/05/25 15:58:14] </span><span style=\"color: #000080; text-decoration-color: #000080\">INFO    </span> HTTP Request: <span style=\"color: #808000; text-decoration-color: #808000; font-weight: bold\">POST</span> <span style=\"color: #0000ff; text-decoration-color: #0000ff; text-decoration: underline\">https://api.openai.com/v1/embeddings</span> <span style=\"color: #008000; text-decoration-color: #008000\">\"HTTP/1.1 200 </span> <a href=\"file:///Users/macbook/Projects/hbit/.venv/lib/python3.12/site-packages/httpx/_client.py\" target=\"_blank\"><span style=\"color: #7f7f7f; text-decoration-color: #7f7f7f\">_client.py</span></a><span style=\"color: #7f7f7f; text-decoration-color: #7f7f7f\">:</span><a href=\"file:///Users/macbook/Projects/hbit/.venv/lib/python3.12/site-packages/httpx/_client.py#1025\" target=\"_blank\"><span style=\"color: #7f7f7f; text-decoration-color: #7f7f7f\">1025</span></a>\n",
       "<span style=\"color: #7fbfbf; text-decoration-color: #7fbfbf\">                    </span>         <span style=\"color: #008000; text-decoration-color: #008000\">OK\"</span>                                                                    <span style=\"color: #7f7f7f; text-decoration-color: #7f7f7f\">               </span>\n",
       "</pre>\n"
      ],
      "text/plain": [
       "\u001b[2;36m[04/05/25 15:58:14]\u001b[0m\u001b[2;36m \u001b[0m\u001b[34mINFO    \u001b[0m HTTP Request: \u001b[1;33mPOST\u001b[0m \u001b[4;94mhttps://api.openai.com/v1/embeddings\u001b[0m \u001b[32m\"HTTP/1.1 200 \u001b[0m \u001b]8;id=711059;file:///Users/macbook/Projects/hbit/.venv/lib/python3.12/site-packages/httpx/_client.py\u001b\\\u001b[2m_client.py\u001b[0m\u001b]8;;\u001b\\\u001b[2m:\u001b[0m\u001b]8;id=142869;file:///Users/macbook/Projects/hbit/.venv/lib/python3.12/site-packages/httpx/_client.py#1025\u001b\\\u001b[2m1025\u001b[0m\u001b]8;;\u001b\\\n",
       "\u001b[2;36m                    \u001b[0m         \u001b[32mOK\"\u001b[0m                                                                    \u001b[2m               \u001b[0m\n"
      ]
     },
     "metadata": {},
     "output_type": "display_data"
    },
    {
     "data": {
      "text/html": [
       "<pre style=\"white-space:pre;overflow-x:auto;line-height:normal;font-family:Menlo,'DejaVu Sans Mono',consolas,'Courier New',monospace\"><span style=\"color: #7fbfbf; text-decoration-color: #7fbfbf\">[04/05/25 15:58:17] </span><span style=\"color: #000080; text-decoration-color: #000080\">INFO    </span> HTTP Request: <span style=\"color: #808000; text-decoration-color: #808000; font-weight: bold\">POST</span> <span style=\"color: #0000ff; text-decoration-color: #0000ff; text-decoration: underline\">https://api.openai.com/v1/embeddings</span> <span style=\"color: #008000; text-decoration-color: #008000\">\"HTTP/1.1 200 </span> <a href=\"file:///Users/macbook/Projects/hbit/.venv/lib/python3.12/site-packages/httpx/_client.py\" target=\"_blank\"><span style=\"color: #7f7f7f; text-decoration-color: #7f7f7f\">_client.py</span></a><span style=\"color: #7f7f7f; text-decoration-color: #7f7f7f\">:</span><a href=\"file:///Users/macbook/Projects/hbit/.venv/lib/python3.12/site-packages/httpx/_client.py#1025\" target=\"_blank\"><span style=\"color: #7f7f7f; text-decoration-color: #7f7f7f\">1025</span></a>\n",
       "<span style=\"color: #7fbfbf; text-decoration-color: #7fbfbf\">                    </span>         <span style=\"color: #008000; text-decoration-color: #008000\">OK\"</span>                                                                    <span style=\"color: #7f7f7f; text-decoration-color: #7f7f7f\">               </span>\n",
       "</pre>\n"
      ],
      "text/plain": [
       "\u001b[2;36m[04/05/25 15:58:17]\u001b[0m\u001b[2;36m \u001b[0m\u001b[34mINFO    \u001b[0m HTTP Request: \u001b[1;33mPOST\u001b[0m \u001b[4;94mhttps://api.openai.com/v1/embeddings\u001b[0m \u001b[32m\"HTTP/1.1 200 \u001b[0m \u001b]8;id=909869;file:///Users/macbook/Projects/hbit/.venv/lib/python3.12/site-packages/httpx/_client.py\u001b\\\u001b[2m_client.py\u001b[0m\u001b]8;;\u001b\\\u001b[2m:\u001b[0m\u001b]8;id=64369;file:///Users/macbook/Projects/hbit/.venv/lib/python3.12/site-packages/httpx/_client.py#1025\u001b\\\u001b[2m1025\u001b[0m\u001b]8;;\u001b\\\n",
       "\u001b[2;36m                    \u001b[0m         \u001b[32mOK\"\u001b[0m                                                                    \u001b[2m               \u001b[0m\n"
      ]
     },
     "metadata": {},
     "output_type": "display_data"
    },
    {
     "data": {
      "text/html": [
       "<pre style=\"white-space:pre;overflow-x:auto;line-height:normal;font-family:Menlo,'DejaVu Sans Mono',consolas,'Courier New',monospace\"><span style=\"color: #7fbfbf; text-decoration-color: #7fbfbf\">[04/05/25 15:58:18] </span><span style=\"color: #000080; text-decoration-color: #000080\">INFO    </span> HTTP Request: <span style=\"color: #808000; text-decoration-color: #808000; font-weight: bold\">POST</span> <span style=\"color: #0000ff; text-decoration-color: #0000ff; text-decoration: underline\">https://api.openai.com/v1/embeddings</span> <span style=\"color: #008000; text-decoration-color: #008000\">\"HTTP/1.1 200 </span> <a href=\"file:///Users/macbook/Projects/hbit/.venv/lib/python3.12/site-packages/httpx/_client.py\" target=\"_blank\"><span style=\"color: #7f7f7f; text-decoration-color: #7f7f7f\">_client.py</span></a><span style=\"color: #7f7f7f; text-decoration-color: #7f7f7f\">:</span><a href=\"file:///Users/macbook/Projects/hbit/.venv/lib/python3.12/site-packages/httpx/_client.py#1025\" target=\"_blank\"><span style=\"color: #7f7f7f; text-decoration-color: #7f7f7f\">1025</span></a>\n",
       "<span style=\"color: #7fbfbf; text-decoration-color: #7fbfbf\">                    </span>         <span style=\"color: #008000; text-decoration-color: #008000\">OK\"</span>                                                                    <span style=\"color: #7f7f7f; text-decoration-color: #7f7f7f\">               </span>\n",
       "</pre>\n"
      ],
      "text/plain": [
       "\u001b[2;36m[04/05/25 15:58:18]\u001b[0m\u001b[2;36m \u001b[0m\u001b[34mINFO    \u001b[0m HTTP Request: \u001b[1;33mPOST\u001b[0m \u001b[4;94mhttps://api.openai.com/v1/embeddings\u001b[0m \u001b[32m\"HTTP/1.1 200 \u001b[0m \u001b]8;id=399838;file:///Users/macbook/Projects/hbit/.venv/lib/python3.12/site-packages/httpx/_client.py\u001b\\\u001b[2m_client.py\u001b[0m\u001b]8;;\u001b\\\u001b[2m:\u001b[0m\u001b]8;id=563251;file:///Users/macbook/Projects/hbit/.venv/lib/python3.12/site-packages/httpx/_client.py#1025\u001b\\\u001b[2m1025\u001b[0m\u001b]8;;\u001b\\\n",
       "\u001b[2;36m                    \u001b[0m         \u001b[32mOK\"\u001b[0m                                                                    \u001b[2m               \u001b[0m\n"
      ]
     },
     "metadata": {},
     "output_type": "display_data"
    },
    {
     "data": {
      "text/html": [
       "<pre style=\"white-space:pre;overflow-x:auto;line-height:normal;font-family:Menlo,'DejaVu Sans Mono',consolas,'Courier New',monospace\"><span style=\"color: #7fbfbf; text-decoration-color: #7fbfbf\">[04/05/25 15:58:19] </span><span style=\"color: #000080; text-decoration-color: #000080\">INFO    </span> HTTP Request: <span style=\"color: #808000; text-decoration-color: #808000; font-weight: bold\">POST</span> <span style=\"color: #0000ff; text-decoration-color: #0000ff; text-decoration: underline\">https://api.openai.com/v1/embeddings</span> <span style=\"color: #008000; text-decoration-color: #008000\">\"HTTP/1.1 200 </span> <a href=\"file:///Users/macbook/Projects/hbit/.venv/lib/python3.12/site-packages/httpx/_client.py\" target=\"_blank\"><span style=\"color: #7f7f7f; text-decoration-color: #7f7f7f\">_client.py</span></a><span style=\"color: #7f7f7f; text-decoration-color: #7f7f7f\">:</span><a href=\"file:///Users/macbook/Projects/hbit/.venv/lib/python3.12/site-packages/httpx/_client.py#1025\" target=\"_blank\"><span style=\"color: #7f7f7f; text-decoration-color: #7f7f7f\">1025</span></a>\n",
       "<span style=\"color: #7fbfbf; text-decoration-color: #7fbfbf\">                    </span>         <span style=\"color: #008000; text-decoration-color: #008000\">OK\"</span>                                                                    <span style=\"color: #7f7f7f; text-decoration-color: #7f7f7f\">               </span>\n",
       "</pre>\n"
      ],
      "text/plain": [
       "\u001b[2;36m[04/05/25 15:58:19]\u001b[0m\u001b[2;36m \u001b[0m\u001b[34mINFO    \u001b[0m HTTP Request: \u001b[1;33mPOST\u001b[0m \u001b[4;94mhttps://api.openai.com/v1/embeddings\u001b[0m \u001b[32m\"HTTP/1.1 200 \u001b[0m \u001b]8;id=758427;file:///Users/macbook/Projects/hbit/.venv/lib/python3.12/site-packages/httpx/_client.py\u001b\\\u001b[2m_client.py\u001b[0m\u001b]8;;\u001b\\\u001b[2m:\u001b[0m\u001b]8;id=99601;file:///Users/macbook/Projects/hbit/.venv/lib/python3.12/site-packages/httpx/_client.py#1025\u001b\\\u001b[2m1025\u001b[0m\u001b]8;;\u001b\\\n",
       "\u001b[2;36m                    \u001b[0m         \u001b[32mOK\"\u001b[0m                                                                    \u001b[2m               \u001b[0m\n"
      ]
     },
     "metadata": {},
     "output_type": "display_data"
    }
   ],
   "source": [
    "security_papers.save_texts(sps)"
   ]
  },
  {
   "cell_type": "code",
   "execution_count": 18,
   "id": "6c03e854",
   "metadata": {},
   "outputs": [
    {
     "data": {
      "text/html": [
       "<pre style=\"white-space:pre;overflow-x:auto;line-height:normal;font-family:Menlo,'DejaVu Sans Mono',consolas,'Courier New',monospace\"><span style=\"color: #7fbfbf; text-decoration-color: #7fbfbf\">[04/05/25 16:40:25] </span><span style=\"color: #000080; text-decoration-color: #000080\">INFO    </span> HTTP Request: <span style=\"color: #808000; text-decoration-color: #808000; font-weight: bold\">POST</span> <span style=\"color: #0000ff; text-decoration-color: #0000ff; text-decoration: underline\">https://api.openai.com/v1/embeddings</span> <span style=\"color: #008000; text-decoration-color: #008000\">\"HTTP/1.1 200 </span> <a href=\"file:///Users/macbook/Projects/hbit/.venv/lib/python3.12/site-packages/httpx/_client.py\" target=\"_blank\"><span style=\"color: #7f7f7f; text-decoration-color: #7f7f7f\">_client.py</span></a><span style=\"color: #7f7f7f; text-decoration-color: #7f7f7f\">:</span><a href=\"file:///Users/macbook/Projects/hbit/.venv/lib/python3.12/site-packages/httpx/_client.py#1025\" target=\"_blank\"><span style=\"color: #7f7f7f; text-decoration-color: #7f7f7f\">1025</span></a>\n",
       "<span style=\"color: #7fbfbf; text-decoration-color: #7fbfbf\">                    </span>         <span style=\"color: #008000; text-decoration-color: #008000\">OK\"</span>                                                                    <span style=\"color: #7f7f7f; text-decoration-color: #7f7f7f\">               </span>\n",
       "</pre>\n"
      ],
      "text/plain": [
       "\u001b[2;36m[04/05/25 16:40:25]\u001b[0m\u001b[2;36m \u001b[0m\u001b[34mINFO    \u001b[0m HTTP Request: \u001b[1;33mPOST\u001b[0m \u001b[4;94mhttps://api.openai.com/v1/embeddings\u001b[0m \u001b[32m\"HTTP/1.1 200 \u001b[0m \u001b]8;id=195734;file:///Users/macbook/Projects/hbit/.venv/lib/python3.12/site-packages/httpx/_client.py\u001b\\\u001b[2m_client.py\u001b[0m\u001b]8;;\u001b\\\u001b[2m:\u001b[0m\u001b]8;id=375044;file:///Users/macbook/Projects/hbit/.venv/lib/python3.12/site-packages/httpx/_client.py#1025\u001b\\\u001b[2m1025\u001b[0m\u001b]8;;\u001b\\\n",
       "\u001b[2;36m                    \u001b[0m         \u001b[32mOK\"\u001b[0m                                                                    \u001b[2m               \u001b[0m\n"
      ]
     },
     "metadata": {},
     "output_type": "display_data"
    }
   ],
   "source": [
    "query_responses = security_papers.query_vector_db(\n",
    "    query=\"Quantum-Resistant Cryptographic Schemes for Secure Communication\",\n",
    "    query_filters=dto.SecurityPaperQuery(),\n",
    ")\n",
    "type_adapter = TypeAdapter(list[dto.SecurityPaperResponse])"
   ]
  },
  {
   "cell_type": "code",
   "execution_count": null,
   "id": "301c2bde",
   "metadata": {},
   "outputs": [
    {
     "name": "stdout",
     "output_type": "stream",
     "text": [
      "[\n",
      "    {\n",
      "        \"security_paper\": {\n",
      "            \"text\": \"The advent of quantum computing presents a looming threat to widely used asymmetric cryptographic algorithms such as RSA and ECC. In anticipation, post-quantum cryptography (PQC) schemes are being standardized by bodies such as NIST, focusing on lattice-based, hash-based, and multivariate polynomial-based algorithms. Early adoption of hybrid cryptographic frameworks enables gradual migration while maintaining backward compatibility. However, implementing PQC in constrained environments such as IoT devices poses performance challenges. Careful evaluation of key sizes, computational overhead, and integration complexity is necessary to ensure practical deployment.\",\n",
      "            \"category\": \"pdf\"\n",
      "        },\n",
      "        \"distance\": 0.5777119398117065\n",
      "    },\n",
      "    {\n",
      "        \"security_paper\": {\n",
      "            \"text\": \"Federated learning has emerged as a promising paradigm for decentralized model training without compromising data privacy. In cybersecurity contexts, this allows institutions to collaboratively improve threat detection models without sharing raw data, which is often sensitive or regulated. However, federated approaches introduce new attack vectors such as model poisoning and gradient inversion. Countermeasures including differential privacy, secure aggregation protocols, and anomaly detection mechanisms are being actively developed to preserve both privacy and model integrity. The balance between accuracy, efficiency, and privacy continues to drive ongoing research in this domain.\",\n",
      "            \"category\": \"pdf\"\n",
      "        },\n",
      "        \"distance\": 0.30334174633026123\n",
      "    },\n",
      "    {\n",
      "        \"security_paper\": {\n",
      "            \"text\": \"Ransomware threats have evolved beyond opportunistic attacks to incorporate sophisticated lateral movement tactics within hybrid on-premise/cloud environments. Attackers often exploit misconfigured identity federation protocols, credential reuse, and insecure API endpoints to propagate across organizational units. Simulation of such attack chains using frameworks like MITRE ATT&CK and CALDERA provides defenders with actionable insights into potential blind spots. Effective containment strategies now rely on micro-segmentation, identity-based access controls, and automated response mechanisms that isolate compromised assets in real-time.\",\n",
      "            \"category\": \"pdf\"\n",
      "        },\n",
      "        \"distance\": 0.26306387782096863\n",
      "    },\n",
      "    {\n",
      "        \"security_paper\": {\n",
      "            \"text\": \"Recent studies have highlighted the susceptibility of machine learning-based intrusion detection systems to adversarial examples. Attackers can subtly perturb benign inputs to evade detection or manipulate feature vectors to mimic normal behavior. These evasion techniques challenge the reliability of IDS models trained on static datasets. To counteract this, researchers are exploring adversarial training, ensemble models, and online learning methods that adapt to evolving attack vectors. Ensuring robustness in these models remains a significant challenge, particularly in high-throughput, low-latency environments such as industrial control systems.\",\n",
      "            \"category\": \"pdf\"\n",
      "        },\n",
      "        \"distance\": 0.19223710894584656\n",
      "    },\n",
      "    {\n",
      "        \"security_paper\": {\n",
      "            \"text\": \"In contemporary enterprise environments, the process of threat modeling plays a pivotal role in identifying potential vulnerabilities prior to system deployment. By leveraging methodologies such as STRIDE and DREAD, security analysts can methodically assess attack surfaces and prioritize mitigation strategies. This proactive approach reduces the likelihood of zero-day exploits by encouraging secure design principles early in the software development lifecycle. Additionally, integration with DevSecOps pipelines ensures that threat modeling is not a one-time event, but an iterative process that evolves alongside system updates and feature expansions.\",\n",
      "            \"category\": \"pdf\"\n",
      "        },\n",
      "        \"distance\": 0.18194352090358734\n",
      "    }\n",
      "]\n"
     ]
    }
   ],
   "source": [
    "response_dict = type_adapter.dump_python(query_responses)\n",
    "response_text = json.dumps(response_dict, indent=4)\n",
    "print(response_text)"
   ]
  }
 ],
 "metadata": {
  "kernelspec": {
   "display_name": ".venv",
   "language": "python",
   "name": "python3"
  },
  "language_info": {
   "codemirror_mode": {
    "name": "ipython",
    "version": 3
   },
   "file_extension": ".py",
   "mimetype": "text/x-python",
   "name": "python",
   "nbconvert_exporter": "python",
   "pygments_lexer": "ipython3",
   "version": "3.12.8"
  }
 },
 "nbformat": 4,
 "nbformat_minor": 5
}
